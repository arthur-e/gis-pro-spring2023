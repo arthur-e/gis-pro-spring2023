{
 "cells": [
  {
   "cell_type": "markdown",
   "id": "aadc1fc2-c916-421e-85c7-7edb037dae66",
   "metadata": {},
   "source": [
    "# Week 1: Introduction to Python Programming"
   ]
  },
  {
   "cell_type": "markdown",
   "id": "359ccc3f-51f4-4e77-b4fa-b0f3daf675dd",
   "metadata": {},
   "source": [
    "*January 17, 2023*"
   ]
  },
  {
   "cell_type": "markdown",
   "id": "8e821680",
   "metadata": {},
   "source": [
    "## Sequences"
   ]
  },
  {
   "cell_type": "markdown",
   "id": "409c77e4",
   "metadata": {},
   "source": [
    "We can visualize this list a sequence of elements; each element is in a bin, and it is the *edges* of the bin that we index.\n",
    "\n",
    "![Lorem ipsum](assets/list-indexing.png)"
   ]
  },
  {
   "cell_type": "markdown",
   "id": "805c2faf",
   "metadata": {},
   "source": [
    "## More Resources\n",
    "\n",
    "- Programming Historian: [Jupyter Notebooks](http://programminghistorian.org/en/lessons/jupyter-notebooks)\n",
    "- Whirlwind Tour of Python: [How to Run Python Code](https://nbviewer.org/github/jakevdp/WhirlwindTourOfPython/blob/master/01-How-to-Run-Python-Code.ipynb)"
   ]
  }
 ],
 "metadata": {
  "kernelspec": {
   "display_name": "Python 3 (ipykernel)",
   "language": "python",
   "name": "python3"
  },
  "language_info": {
   "codemirror_mode": {
    "name": "ipython",
    "version": 3
   },
   "file_extension": ".py",
   "mimetype": "text/x-python",
   "name": "python",
   "nbconvert_exporter": "python",
   "pygments_lexer": "ipython3",
   "version": "3.8.10"
  }
 },
 "nbformat": 4,
 "nbformat_minor": 5
}
