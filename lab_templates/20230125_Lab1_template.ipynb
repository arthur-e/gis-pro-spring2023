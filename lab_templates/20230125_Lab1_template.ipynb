{
 "cells": [
  {
   "cell_type": "markdown",
   "id": "a372add5",
   "metadata": {},
   "source": [
    "# Week 2, Lab 1"
   ]
  },
  {
   "cell_type": "markdown",
   "id": "1f4889a4",
   "metadata": {},
   "source": [
    "## Setup: Loading Data"
   ]
  },
  {
   "cell_type": "code",
   "execution_count": null,
   "id": "0cc277a4",
   "metadata": {},
   "outputs": [],
   "source": [
    "import pandas as pd\n",
    "\n",
    "# Load the data with just a subset of the columns\n",
    "data = pd.read_csv(\"http://files.ntsg.umt.edu/data/GIS_Programming/data/GPPDI_ClassA_NPP_162_R2.csv\",\n",
    "                  usecols = [\"SITE_ID\", \"LAT_DD\", \"LONG_DD\", \"BIOMENEW\", \"TNPP_C\n",
    "                             \n",
    "data2 = pd.read_csv(\"http://files.ntsg.umt.edu/data/GIS_Programming/data/ods_npp.csv\", skiprows = 4,\n",
    "                  usecols = ['NPP ID', 'Latitude', 'Longitude', 'NPP g C'])\n",
    "\n",
    "# The first two \"rows\" are actually mostly empty lines the authors put in between the header and the real data\n",
    "data2 = data2[2:]"
   ]
  },
  {
   "cell_type": "markdown",
   "id": "1a0bf802",
   "metadata": {},
   "source": [
    "## Problem 1.1: Sorting Latitude and Longitude\n",
    "\n",
    "**This problem uses `data`, the GPPDI dataset.**\n",
    "\n",
    "What are the mininum and maximum latitude and longitude in this dataset for each hemisphere? For instance, in the Northern Hemisphere (latitudes between 0 and 90 deg N), what is the lowest (minimum) and highest (maximum) latitude? Find this for:\n",
    "\n",
    "- Latitudes in the Northern hemisphere\n",
    "- Latitudes in the Southern hemisphere\n",
    "- Longitudes in the Western hemisphere\n",
    "- Longitudes in the Eastern hemisphere"
   ]
  },
  {
   "cell_type": "markdown",
   "id": "4a273c2d",
   "metadata": {},
   "source": [
    "---"
   ]
  },
  {
   "cell_type": "markdown",
   "id": "b1281d18",
   "metadata": {},
   "source": [
    "## Problem 1.2: What are the Unique Biomes?\n",
    "\n",
    "**This problem uses `data`, the GPPDI dataset.**\n",
    "\n",
    "Write a Python code block that prints the unique biome names in this dataset. **You should use a `for` loop to do this.** If you know a better way, feel free to show multiple ways of doing the same thing. You'll also need to store the unique names as a Python `list` so you can use it later."
   ]
  },
  {
   "cell_type": "markdown",
   "id": "9e2e80fa",
   "metadata": {},
   "source": [
    "---"
   ]
  },
  {
   "cell_type": "markdown",
   "id": "9a6d80ca",
   "metadata": {},
   "source": [
    "## Problem 1.3: Summarize Total NPP by Biome\n",
    "\n",
    "**This problem uses `data`, the GPPDI dataset.**\n",
    "\n",
    "Now that you have a list of unique biomes, calculate the mean total NPP for each biome. Display the results in some meaningful way. I included a script for plotting the data if you want to use that."
   ]
  },
  {
   "cell_type": "markdown",
   "id": "76525ba9",
   "metadata": {},
   "source": [
    "---"
   ]
  },
  {
   "cell_type": "markdown",
   "id": "c60b78fe",
   "metadata": {},
   "source": [
    "## Problem 1.4: Calculate Mean NPP for Unique Latitude-Longitude Pairs"
   ]
  },
  {
   "cell_type": "markdown",
   "id": "6138dcb9",
   "metadata": {},
   "source": [
    "**This problem uses `data2`, the Global Osnabruck Dataset.**\n",
    "\n",
    "Using a `for` loop, Python conditional expressions and the `if` keyword, and the Python `list` data structure... Calculate the mean NPP (`\"NPP g C\"`) at each unique pair of latitude and longitude coordinates. Assume that repeated data from the same latitude-longitude pair are only found in adjacent rows.\n",
    "\n",
    "You should have:\n",
    "\n",
    "1. A `list` of length N with the unique latitude coordinates;\n",
    "2. A `list` of length N with the unique longitude coordinates;\n",
    "3. A `list` of length N with the mean NPP.\n",
    "\n",
    "Alternatively, lists 1 and 2 above could be a single list containing tuples of latitude-longitude, like:\n",
    "\n",
    "```\n",
    "[\n",
    "    (lat_1, lng_1), \n",
    "    (lat_2, lng_2), \n",
    "    ..., \n",
    "    (lat_N, lng_N)\n",
    "]\n",
    "```"
   ]
  },
  {
   "cell_type": "markdown",
   "id": "8147632b",
   "metadata": {},
   "source": [
    "---"
   ]
  },
  {
   "cell_type": "markdown",
   "id": "87e72381",
   "metadata": {},
   "source": [
    "## Problem 1.5: Calculating Distances on a Sphere"
   ]
  },
  {
   "cell_type": "markdown",
   "id": "f4c84d1f",
   "metadata": {},
   "source": [
    "**This problem uses `data2`, the Global Osnabruck Dataset.**\n",
    "\n",
    "Let's revisit the previous challenge in a different way. Can we calculate the distance between latitude and longitude pairs to determine if they are \"close enough\" to be considered the same point?\n",
    "\n",
    "The Haversine function can be used to calculate *great circle distance* (shortest path on a sphere) between two points, but this is a complicated function so we'll just pretend the Earth is flat. For flat distances between two points that are close together, `(x1, y1)` and `(x2, y2)` (`x` and `y` refer to longitude and latitude, respectively), the Euclidean distance function is a good approximation:\n",
    "\n",
    "$$\n",
    "d = \\sqrt{(x_2 - x_1)^2 + (y_2 - y_1)^2}\n",
    "$$\n",
    "\n",
    "**Write the Euclidean distance function as a Python function and use it to calculate the distance between points described by the first 3 rows in the `data` table.**"
   ]
  }
 ],
 "metadata": {
  "kernelspec": {
   "display_name": "Python 3 (ipykernel)",
   "language": "python",
   "name": "python3"
  },
  "language_info": {
   "codemirror_mode": {
    "name": "ipython",
    "version": 3
   },
   "file_extension": ".py",
   "mimetype": "text/x-python",
   "name": "python",
   "nbconvert_exporter": "python",
   "pygments_lexer": "ipython3",
   "version": "3.10.6"
  }
 },
 "nbformat": 4,
 "nbformat_minor": 5
}
